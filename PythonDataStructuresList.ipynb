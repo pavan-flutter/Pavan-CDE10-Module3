{
 "cells": [
  {
   "cell_type": "code",
   "execution_count": 1,
   "id": "26db356b-e025-42c3-a92c-0075fd5a68c2",
   "metadata": {},
   "outputs": [
    {
     "name": "stdout",
     "output_type": "stream",
     "text": [
      "SaiBaba Babuji\n"
     ]
    }
   ],
   "source": [
    "print(\"SaiBaba Babuji\")"
   ]
  },
  {
   "cell_type": "code",
   "execution_count": 3,
   "id": "ac0297f9-fc7e-43ad-8abc-d64b16cd346b",
   "metadata": {},
   "outputs": [
    {
     "name": "stdin",
     "output_type": "stream",
     "text": [
      "number of values to enter: 5\n"
     ]
    }
   ],
   "source": [
    "c=float(input(\"number of values to enter:\"))"
   ]
  },
  {
   "cell_type": "code",
   "execution_count": 5,
   "id": "67b35d5b-506c-4ec1-9491-d6ca8fcca9b0",
   "metadata": {},
   "outputs": [
    {
     "name": "stdout",
     "output_type": "stream",
     "text": [
      "5.0\n"
     ]
    }
   ],
   "source": [
    "print(c)"
   ]
  },
  {
   "cell_type": "code",
   "execution_count": 45,
   "id": "56906519-d395-47de-ae03-7f39ea2a28bd",
   "metadata": {},
   "outputs": [
    {
     "name": "stdin",
     "output_type": "stream",
     "text": [
      "enter value 1\n",
      "enter value 3\n",
      "enter value 2\n",
      "enter value 5\n",
      "enter value 4\n"
     ]
    }
   ],
   "source": [
    "li=[]\n",
    "li.append(int(input(\"enter value\")))\n",
    "li.append(int(input(\"enter value\")))\n",
    "li.append(int(input(\"enter value\")))\n",
    "li.append(int(input(\"enter value\")))\n",
    "li.append(int(input(\"enter value\")))"
   ]
  },
  {
   "cell_type": "code",
   "execution_count": 49,
   "id": "5ab51c52-18aa-42d0-8b83-81037857765d",
   "metadata": {},
   "outputs": [
    {
     "name": "stdout",
     "output_type": "stream",
     "text": [
      "[5, 4, 3, 2, 1]\n",
      "[1, 2, 3, 4, 5]\n",
      "[5, 4, 3, 2, 1]\n",
      "[1, 2, 3, 4, 5]\n"
     ]
    }
   ],
   "source": [
    "print(li)\n",
    "li.sort()\n",
    "print(li)\n",
    "type(li)\n",
    "li.sort(reverse=True)\n",
    "print(li)\n",
    "li.sort()\n",
    "print(li)"
   ]
  },
  {
   "cell_type": "code",
   "execution_count": 51,
   "id": "0549cb69-adad-4374-ad21-f78da3f3f72b",
   "metadata": {},
   "outputs": [
    {
     "name": "stdout",
     "output_type": "stream",
     "text": [
      "Vote Eligible\n"
     ]
    }
   ],
   "source": [
    "age=18\n",
    "if(age>=18):\n",
    "    print(\"Vote Eligible\")\n",
    "else:\n",
    "    print(\"Not Eligible\")"
   ]
  },
  {
   "cell_type": "code",
   "execution_count": 59,
   "id": "3f7b970d-fca6-4ef1-be6f-e10aab7f3e91",
   "metadata": {},
   "outputs": [
    {
     "name": "stdout",
     "output_type": "stream",
     "text": [
      "* \n",
      "* * \n",
      "* * * \n",
      "* * * * \n",
      "* * * * * \n"
     ]
    }
   ],
   "source": [
    "#rows = 5 columns = 5 \n",
    "for i in range(1,6):\n",
    "    for j in range(1,(i+1)):\n",
    "        print('*',end = ' ')\n",
    "    print()"
   ]
  },
  {
   "cell_type": "code",
   "execution_count": 69,
   "id": "a263dbe6-1f38-4f48-8924-b01aa3eb1804",
   "metadata": {},
   "outputs": [
    {
     "name": "stdout",
     "output_type": "stream",
     "text": [
      "1 \n",
      "2 2 \n",
      "3 3 3 \n",
      "4 4 4 4 \n",
      "5 5 5 5 5 \n"
     ]
    }
   ],
   "source": [
    "#rows = 5 columns = 5 \n",
    "for i in range(1,6):\n",
    "    for j in range(1,(i+1)):\n",
    "        print(i,end = ' ')\n",
    "    print()"
   ]
  },
  {
   "cell_type": "code",
   "execution_count": 130,
   "id": "2c0e5dfb-3b3d-43a7-be94-63e814c024fa",
   "metadata": {},
   "outputs": [
    {
     "name": "stdout",
     "output_type": "stream",
     "text": [
      "1 \n",
      "1 2 \n",
      "1 2 3 \n",
      "1 2 3 4 \n",
      "1 2 3 4 5 \n"
     ]
    }
   ],
   "source": [
    "#rows = 5 columns = 5 \n",
    "for i in range(1,6):\n",
    "    for j in range(1,(i+1)):\n",
    "       if(j==0):\n",
    "           print(j,end = ' ')\n",
    "       else:\n",
    "           print(j,end = ' ')\n",
    "    print()"
   ]
  },
  {
   "cell_type": "code",
   "execution_count": 154,
   "id": "5bb9abca-9332-42b5-b91e-118db448ccf2",
   "metadata": {},
   "outputs": [
    {
     "name": "stdout",
     "output_type": "stream",
     "text": [
      "[3, 5, 7, 9, 11]\n"
     ]
    }
   ],
   "source": [
    "#Add two List \n",
    "L1 = [1,2,3,4,5]\n",
    "L2 = [2,3,4,5,6]\n",
    "L3 =[]\n",
    "len(L1)\n",
    "if(len(L1) == len(L2)):\n",
    " for i in range(0,len(L1)):\n",
    "        L3.append(L1[i] + L2[i])\n",
    "\n",
    "print(L3)\n"
   ]
  },
  {
   "cell_type": "code",
   "execution_count": 192,
   "id": "29c3a310-6c91-4214-9778-766dc7f14240",
   "metadata": {},
   "outputs": [
    {
     "name": "stdout",
     "output_type": "stream",
     "text": [
      "Create a List \n"
     ]
    },
    {
     "name": "stdin",
     "output_type": "stream",
     "text": [
      " Create a List How many values to enter 3\n",
      "enter value a\n"
     ]
    },
    {
     "name": "stdout",
     "output_type": "stream",
     "text": [
      "[1]\n"
     ]
    },
    {
     "name": "stdin",
     "output_type": "stream",
     "text": [
      "enter value ab\n"
     ]
    },
    {
     "name": "stdout",
     "output_type": "stream",
     "text": [
      "[1, 2]\n"
     ]
    },
    {
     "name": "stdin",
     "output_type": "stream",
     "text": [
      "enter value abc\n"
     ]
    },
    {
     "name": "stdout",
     "output_type": "stream",
     "text": [
      "[1, 2, 3]\n"
     ]
    }
   ],
   "source": [
    "l=[]\n",
    "def createList(str):\n",
    "    l.append(len(str))\n",
    "    return l\n",
    "\n",
    "\n",
    "print(\"Create a List \")\n",
    "ix = int(input(\" Create a List How many values to enter\"))\n",
    "\n",
    "for i in range(0, ix):\n",
    "    str = input(\"enter value\")\n",
    "    createList(str)\n",
    "    print(l)\n",
    "\n",
    "\n",
    "          \n",
    "\n",
    "    \n",
    "    \n",
    "    "
   ]
  },
  {
   "cell_type": "code",
   "execution_count": 205,
   "id": "73599f76-084a-4a06-ac73-0158809689a8",
   "metadata": {},
   "outputs": [
    {
     "name": "stdout",
     "output_type": "stream",
     "text": [
      "[3, 5, 7, 9, 11]\n"
     ]
    }
   ],
   "source": [
    "#Add two List function \n",
    "\n",
    "def addlist(a,b):\n",
    "    L3 =[]\n",
    "    if(len(a) == len(a)):\n",
    "        for i in range(0,len(a)):\n",
    "            L3.append(a[i] + b[i])\n",
    "        return L3\n",
    "\n",
    "a = [1,2,3,4,5]\n",
    "b = [2,3,4,5,6]\n",
    "\n",
    "L3 = addlist(a,b)\n",
    "print(L3)"
   ]
  },
  {
   "cell_type": "code",
   "execution_count": 267,
   "id": "54cae7f2-1a3e-41ea-98f2-70d45950c990",
   "metadata": {},
   "outputs": [
    {
     "name": "stdout",
     "output_type": "stream",
     "text": [
      "Welcome to our store......\n",
      "Here is the list of products we have in the store:  dict_keys(['chips', 'snacks', 'chocolate'])\n"
     ]
    },
    {
     "name": "stdin",
     "output_type": "stream",
     "text": [
      "Enter the item you want to buy: rice\n",
      "Enter the Quantity you want to buy: 1\n"
     ]
    },
    {
     "ename": "NameError",
     "evalue": "name 'my_dict' is not defined",
     "output_type": "error",
     "traceback": [
      "\u001b[1;31m---------------------------------------------------------------------------\u001b[0m",
      "\u001b[1;31mNameError\u001b[0m                                 Traceback (most recent call last)",
      "Cell \u001b[1;32mIn[267], line 12\u001b[0m\n\u001b[0;32m     10\u001b[0m ip \u001b[38;5;241m=\u001b[39m \u001b[38;5;28minput\u001b[39m(\u001b[38;5;124m\"\u001b[39m\u001b[38;5;124mEnter the item you want to buy:\u001b[39m\u001b[38;5;124m\"\u001b[39m)\n\u001b[0;32m     11\u001b[0m qmt \u001b[38;5;241m=\u001b[39m \u001b[38;5;28mint\u001b[39m(\u001b[38;5;28minput\u001b[39m(\u001b[38;5;124m\"\u001b[39m\u001b[38;5;124mEnter the Quantity you want to buy:\u001b[39m\u001b[38;5;124m\"\u001b[39m))\n\u001b[1;32m---> 12\u001b[0m \u001b[38;5;28;01mif\u001b[39;00m ip \u001b[38;5;129;01min\u001b[39;00m my_dict:\n\u001b[0;32m     13\u001b[0m     ch \u001b[38;5;241m=\u001b[39m \u001b[38;5;28minput\u001b[39m(\u001b[38;5;124m\"\u001b[39m\u001b[38;5;124mDo you wish to continue and buy more products? y/n\u001b[39m\u001b[38;5;124m\"\u001b[39m)\n\u001b[0;32m     14\u001b[0m     \u001b[38;5;28;01mcontinue\u001b[39;00m\n",
      "\u001b[1;31mNameError\u001b[0m: name 'my_dict' is not defined"
     ]
    }
   ],
   "source": [
    "print(\"Welcome to our store......\")\n",
    "prod = {'chips':50, 'snacks':80, 'chocolate':50}\n",
    "\n",
    "print(\"Here is the list of products we have in the store: \",prod.keys())\n",
    "#ip = input(\"Enter the item you want to buy:\")\n",
    "#qmt = input(\"Enter the Quantity you want to buy:\")\n",
    "\n",
    "  ip = input(\"Enter the item you want to buy:\")\n",
    "    qmt = int(input(\"Enter the Quantity you want to buy:\"))\n",
    "    if ip in my_dict:\n",
    "        ch = input(\"Do you wish to continue and buy more products? y/n\")\n",
    "        continue\n",
    "    else:\n",
    "        print(\"Wrong item Selected\")\n",
    "\n",
    "\n",
    "\n",
    "ch ='y'\n",
    "while (ch == 'y'):\n",
    "    ip = input(\"Enter the item you want to buy:\")\n",
    "    qmt = int(input(\"Enter the Quantity you want to buy:\"))\n",
    "    if ip in my_dict:\n",
    "        ch = input(\"Do you wish to continue and buy more products? y/n\")\n",
    "        continue\n",
    "    else:\n",
    "        print(\"Wrong item Selected\")\n",
    "\n",
    "    \n",
    "\n",
    "\n",
    "    \n",
    "\n",
    "    \n",
    "    \n",
    "\n",
    "\n"
   ]
  },
  {
   "cell_type": "code",
   "execution_count": 379,
   "id": "2ba43626-c9c0-4ed9-ae2b-7f585eef7373",
   "metadata": {},
   "outputs": [
    {
     "name": "stdout",
     "output_type": "stream",
     "text": [
      "Welcome to our store......\n",
      "Here is the list of products we have in the store:  dict_keys(['chips', 'snacks', 'chocolate'])\n"
     ]
    },
    {
     "name": "stdin",
     "output_type": "stream",
     "text": [
      "Enter the item you want to buy: chips\n",
      "Enter the Quantity you want to buy: 1\n",
      "Do you wish to continue and buy more products? y/n: y\n"
     ]
    },
    {
     "name": "stdout",
     "output_type": "stream",
     "text": [
      "Here is the list of products we have in the store:  dict_keys(['chips', 'snacks', 'chocolate'])\n"
     ]
    },
    {
     "name": "stdin",
     "output_type": "stream",
     "text": [
      "Enter the item you want to buy: rice\n",
      "Enter the Quantity you want to buy: 2\n"
     ]
    },
    {
     "name": "stdout",
     "output_type": "stream",
     "text": [
      "Wrong item Selected\n"
     ]
    },
    {
     "name": "stdin",
     "output_type": "stream",
     "text": [
      "Do you wish to continue and buy more products? y/n: y\n",
      "Enter the item you want to buy: snacks\n",
      "Enter the Quantity you want to buy: 2\n",
      "Do you wish to continue and buy more products? y/n: n\n"
     ]
    },
    {
     "name": "stdout",
     "output_type": "stream",
     "text": [
      "Thank you for visting Store\n",
      "Items   Qty  PerUnitPrice  Amt \n",
      "chips    1         50       50 \n",
      "snacks    2         80       160 \n",
      "\n",
      "Your Total Amount is : 210\n",
      "[('chips', 1), ('snacks', 2), ('chocolate', 0)]\n",
      "dict_items([('chips', 1), ('snacks', 2), ('chocolate', 0)])\n"
     ]
    }
   ],
   "source": [
    "print(\"Welcome to our store......\")\n",
    "prod_dict = {'chips':50, 'snacks':80, 'chocolate':50}\n",
    "pur_dict =  {'chips':0, 'snacks':0, 'chocolate':0}\n",
    "tot = 0\n",
    "print(\"Here is the list of products we have in the store: \",prod_dict.keys())\n",
    "#ip = input(\"Enter the item you want to buy:\")\n",
    "#qnt = int(input(\"Enter the Quantity you want to buy:\"))\n",
    "ch='y'\n",
    "while (ch == 'y'):\n",
    "    ip = input(\"Enter the item you want to buy:\")\n",
    "    qnt = int(input(\"Enter the Quantity you want to buy:\"))\n",
    "    if ip in prod_dict:\n",
    "        ch = input(\"Do you wish to continue and buy more products? y/n:\")\n",
    "        pur_dict[ip]=qnt\n",
    "        if(ch == 'y'):            \n",
    "            print(\"Here is the list of products we have in the store: \",prod_dict.keys())\n",
    "        elif(ch =='n'):\n",
    "            print(\"Thank you for visting Store\")\n",
    "        else:\n",
    "            print(\"Thank you for visting Store\")\n",
    "        continue\n",
    "    else:\n",
    "        print(\"Wrong item Selected\")\n",
    "        ch = input(\"Do you wish to continue and buy more products? y/n:\")\n",
    "        continue\n",
    "\n",
    "\n",
    "    \n",
    "    \n",
    "    \n",
    "print(\"Items   Qty  PerUnitPrice  Amt\", end=' ') \n",
    "print()\n",
    "\n",
    "for i in pur_dict.keys():         \n",
    "        if(pur_dict[i] > 0):\n",
    "            multiple = prod_dict[i] * pur_dict[i]\n",
    "            tot += multiple\n",
    "            print(i,'  ' ,pur_dict[i],'       ' ,prod_dict[i],'     ' ,multiple, end=' ')\n",
    "            print()\n",
    "\n",
    "            \n",
    "print()\n",
    "print(\"Your Total Amount is :\", tot)\n",
    "\n",
    "\n",
    "list_of_tuples = [(k, v) for k, v in pur_dict.items()]\n",
    "print(list_of_tuples)\n",
    "\n",
    "print(pur_dict.items())\n",
    "    \n",
    "    \n",
    "\n",
    "\n"
   ]
  },
  {
   "cell_type": "code",
   "execution_count": null,
   "id": "e3335bf8-3290-4407-856a-529a82473f02",
   "metadata": {},
   "outputs": [],
   "source": []
  },
  {
   "cell_type": "code",
   "execution_count": null,
   "id": "287e5ec7-175f-4cc5-a2b4-98572c48e2ba",
   "metadata": {},
   "outputs": [],
   "source": []
  },
  {
   "cell_type": "code",
   "execution_count": 391,
   "id": "964cabe5-b4a7-40f1-9b66-dc19cf55b497",
   "metadata": {},
   "outputs": [
    {
     "name": "stdout",
     "output_type": "stream",
     "text": [
      "Welcome to our store.....\n",
      "Here is the list of products we have in our store:  dict_keys(['chips', 'snacks', 'chocolate'])\n"
     ]
    },
    {
     "name": "stdin",
     "output_type": "stream",
     "text": [
      "Enter the item you want to buy: chips\n",
      "Enter the unit of quantiy you want to buy: 1\n",
      "Do you with to continue and buy more products? y/n y\n"
     ]
    },
    {
     "name": "stdout",
     "output_type": "stream",
     "text": [
      "Here is the list of products we have in our store:  dict_keys(['chips', 'snacks', 'chocolate'])\n"
     ]
    },
    {
     "name": "stdin",
     "output_type": "stream",
     "text": [
      "Enter the item you want to buy: rice\n",
      "Enter the unit of quantiy you want to buy: 1\n"
     ]
    },
    {
     "name": "stdout",
     "output_type": "stream",
     "text": [
      "Wrong item selected....\n"
     ]
    },
    {
     "name": "stdin",
     "output_type": "stream",
     "text": [
      "Do you with to continue and buy more products? y/n y\n"
     ]
    },
    {
     "name": "stdout",
     "output_type": "stream",
     "text": [
      "Here is the list of products we have in our store:  dict_keys(['chips', 'snacks', 'chocolate'])\n"
     ]
    },
    {
     "name": "stdin",
     "output_type": "stream",
     "text": [
      "Enter the item you want to buy: snacks\n",
      "Enter the unit of quantiy you want to buy: 2\n",
      "Do you with to continue and buy more products? y/n n\n"
     ]
    },
    {
     "name": "stdout",
     "output_type": "stream",
     "text": [
      "Thank you for visiting our store\n",
      "Here is a list of items you have selected\n",
      "Item         Qty     PerUnitPrice     Amt \n",
      "chips         1         50            50\n",
      "snacks         2         80            160\n",
      "Your Total Amount is: 210\n",
      "dict_items([('chips', 1), ('snacks', 2), ('chocolate', 0)])\n"
     ]
    }
   ],
   "source": [
    "#Task 1\n",
    "\n",
    "#creating dictionary product key and value as amountper piece\n",
    "\n",
    "# type(prod_dict)  checking dictionary or not \n",
    "# print(prod_dict.keys()) checking dictionary values \n",
    "#creating purchase dictionary adding default values 0\n",
    "\n",
    "\n",
    "#creating integer to store total value \n",
    "\n",
    "#print list of available items in dictonary i.e keys \n",
    "\n",
    "# input item name ip = input(\"Enter the item you want to buy:\")\n",
    "#input quantity qnt = int(input(\"Enter the unit of quantiy you want to buy:\"))\n",
    "\n",
    "# taking checking variable y/n \n",
    "\n",
    "# input continue y/n ch = input(\"Do you with to continue and buy more products? y/n\")\n",
    "\n",
    "# using While loop print(\"Welcome to our store.....\")\n",
    "print(\"Welcome to our store.....\")\n",
    "prod_dict={'chips':50,'snacks':80,'chocolate':50}\n",
    "pur_dict={'chips':0,'snacks':0,'chocolate':0}\n",
    "ch = 'y'\n",
    "tot = 0\n",
    "print(\"Here is the list of products we have in our store: \",prod_dict.keys())\n",
    "while(ch=='y'):\n",
    "    ip = input(\"Enter the item you want to buy:\")\n",
    "    qnt = int(input(\"Enter the unit of quantiy you want to buy:\"))\n",
    "    if(ip in prod_dict):\n",
    "        ch = input(\"Do you with to continue and buy more products? y/n\")\n",
    "        pur_dict[ip]=qnt\n",
    "        if(ch=='y'):\n",
    "            print(\"Here is the list of products we have in our store: \",prod_dict.keys())\n",
    "        elif(ch=='n'):\n",
    "            print(\"Thank you for visiting our store\")\n",
    "        else:\n",
    "            print(\"Thank you for visiting our store\")\n",
    "        continue\n",
    "    else:\n",
    "        print(\"Wrong item selected....\")\n",
    "        ch = input(\"Do you with to continue and buy more products? y/n\")\n",
    "        print(\"Here is the list of products we have in our store: \",prod_dict.keys())\n",
    "        continue\n",
    "        \n",
    "print(\"Here is a list of items you have selected\")\n",
    "print(\"Item         Qty     PerUnitPrice     Amt\", end=' ')\n",
    "print()\n",
    "\n",
    "\n",
    "# calculating quantity * price in for loop in entered / purchase values with keys \n",
    "for i in pur_dict.keys():\n",
    "    if(pur_dict[i] > 0):\n",
    "        cal= pur_dict[i] * prod_dict[i]\n",
    "        tot += cal\n",
    "        print(i,'       ',pur_dict[i],\"       \",prod_dict[i],\"          \",cal,end='')\n",
    "        print()\n",
    "\n",
    "print(\"Your Total Amount is:\",tot)\n",
    "        \n",
    "        \n"
   ]
  },
  {
   "cell_type": "code",
   "execution_count": null,
   "id": "d0a23245-8c46-4a5d-ae28-3eb088063859",
   "metadata": {},
   "outputs": [],
   "source": []
  },
  {
   "cell_type": "code",
   "execution_count": 413,
   "id": "fdaee4d0-fbda-4bf4-a498-20a928cac9b2",
   "metadata": {},
   "outputs": [
    {
     "data": {
      "text/plain": [
       "[3, 5, 7, 9, 11]"
      ]
     },
     "execution_count": 413,
     "metadata": {},
     "output_type": "execute_result"
    }
   ],
   "source": [
    "#Task 2 \n",
    "# create a function to add list value \n",
    "# created function taken two parameter l1,l2  and created new \n",
    "#list to save values after adding  checking lenght of two list iterating and getting value form index \n",
    "#and appending to l3 list and returning  list value \n",
    "def addlistval(a,b):\n",
    "    c=[]   \n",
    "    if(len(a)==len(b)):\n",
    "        for i in range(0,len(a)):\n",
    "            c.append(a[i] + b[i])            \n",
    "    return c\n",
    "\n",
    "a=[1,2,3,4,5]\n",
    "b=[2,3,4,5,6]\n",
    "#calling the function  and sending list as paramaters \n",
    "\n",
    "c= addlistval(a,b)\n",
    "c\n",
    "        \n",
    "    "
   ]
  },
  {
   "cell_type": "code",
   "execution_count": null,
   "id": "0fc637dd-33aa-4f19-8d08-9e2433c14d48",
   "metadata": {},
   "outputs": [],
   "source": []
  },
  {
   "cell_type": "code",
   "execution_count": null,
   "id": "4de6e6d3-9890-425d-8c57-e4fb7d80a520",
   "metadata": {},
   "outputs": [],
   "source": []
  },
  {
   "cell_type": "code",
   "execution_count": null,
   "id": "c7a1c057-e94d-434b-88a3-106e2cc8cbb1",
   "metadata": {},
   "outputs": [],
   "source": []
  },
  {
   "cell_type": "code",
   "execution_count": null,
   "id": "64bc6fa3-ba59-4440-a47e-3a40138b039b",
   "metadata": {},
   "outputs": [],
   "source": []
  },
  {
   "cell_type": "code",
   "execution_count": null,
   "id": "9aec5470-431c-458a-8082-0058b797e229",
   "metadata": {},
   "outputs": [],
   "source": []
  },
  {
   "cell_type": "code",
   "execution_count": null,
   "id": "3c0b8657-2a7e-48bb-bb61-450112324fc6",
   "metadata": {},
   "outputs": [],
   "source": []
  },
  {
   "cell_type": "code",
   "execution_count": null,
   "id": "9b383fad-3e79-4f7a-8128-db6fef0055f2",
   "metadata": {},
   "outputs": [],
   "source": []
  }
 ],
 "metadata": {
  "kernelspec": {
   "display_name": "Python 3 (ipykernel)",
   "language": "python",
   "name": "python3"
  },
  "language_info": {
   "codemirror_mode": {
    "name": "ipython",
    "version": 3
   },
   "file_extension": ".py",
   "mimetype": "text/x-python",
   "name": "python",
   "nbconvert_exporter": "python",
   "pygments_lexer": "ipython3",
   "version": "3.12.4"
  }
 },
 "nbformat": 4,
 "nbformat_minor": 5
}
